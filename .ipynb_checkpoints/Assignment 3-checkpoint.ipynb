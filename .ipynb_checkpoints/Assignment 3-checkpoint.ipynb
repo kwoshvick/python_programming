{
 "cells": [
  {
   "cell_type": "markdown",
   "metadata": {},
   "source": [
    "Rewrite your pay computation to give the employees 1.5 times the hourly rate for hours worked above 40 hours.\n",
    "\n",
    "Enter Hours : 45\n",
    "    \n",
    "Enter rate : 10\n",
    "    \n",
    "Pay : 475.0"
   ]
  },
  {
   "cell_type": "code",
   "execution_count": 6,
   "metadata": {},
   "outputs": [
    {
     "name": "stdout",
     "output_type": "stream",
     "text": [
      "Enter hours : 45\n",
      "Enter rate :10\n",
      "Pay : 475.0\n"
     ]
    }
   ],
   "source": [
    "try:\n",
    "    hours = float(input(\"Enter hours : \"))\n",
    "    rate = float(input(\"Enter rate :\"))\n",
    "    if hours > 40:\n",
    "        extra_hours_pay = (hours - 40) * (rate * 0.5)\n",
    "    \n",
    "    gross_pay = hours * rate + extra_hours_pay         \n",
    "    print(\"Pay :\", gross_pay)\n",
    "except:\n",
    "    print(\"Please enter numeric input\")\n"
   ]
  },
  {
   "cell_type": "code",
   "execution_count": null,
   "metadata": {},
   "outputs": [],
   "source": []
  }
 ],
 "metadata": {
  "kernelspec": {
   "display_name": "Python 3",
   "language": "python",
   "name": "python3"
  },
  "language_info": {
   "codemirror_mode": {
    "name": "ipython",
    "version": 3
   },
   "file_extension": ".py",
   "mimetype": "text/x-python",
   "name": "python",
   "nbconvert_exporter": "python",
   "pygments_lexer": "ipython3",
   "version": "3.6.8"
  }
 },
 "nbformat": 4,
 "nbformat_minor": 2
}
