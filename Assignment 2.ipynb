{
 "cells": [
  {
   "cell_type": "markdown",
   "metadata": {},
   "source": [
    "Rewrite your pay program using try and except so that your program handles non-numeric input\n",
    "gracefully.\n",
    "\n",
    "Enter Hours: 20\n",
    "\n",
    "Enter Rate: nine\n",
    "\n",
    "Error, please enter numeric input\n",
    "\n",
    "Enter Hours: forty\n",
    "\n",
    "Error, please enter numeric input\n",
    "\n"
   ]
  },
  {
   "cell_type": "code",
   "execution_count": 3,
   "metadata": {},
   "outputs": [
    {
     "name": "stdout",
     "output_type": "stream",
     "text": [
      "Enter hours : dsfsafsad\n",
      "Please enter numeric input\n"
     ]
    }
   ],
   "source": [
    "try:\n",
    "    hours = float(input(\"Enter hours : \"))\n",
    "    rate = float(input(\"Enter rate :\"))\n",
    "    gross_pay = hours * rate\n",
    "    print(\"Pay :\", gross_pay)\n",
    "except:\n",
    "    print(\"Please enter numeric input\")\n"
   ]
  },
  {
   "cell_type": "code",
   "execution_count": null,
   "metadata": {},
   "outputs": [],
   "source": []
  },
  {
   "cell_type": "code",
   "execution_count": null,
   "metadata": {},
   "outputs": [],
   "source": []
  }
 ],
 "metadata": {
  "kernelspec": {
   "display_name": "Python 3",
   "language": "python",
   "name": "python3"
  },
  "language_info": {
   "codemirror_mode": {
    "name": "ipython",
    "version": 3
   },
   "file_extension": ".py",
   "mimetype": "text/x-python",
   "name": "python",
   "nbconvert_exporter": "python",
   "pygments_lexer": "ipython3",
   "version": "3.6.8"
  }
 },
 "nbformat": 4,
 "nbformat_minor": 2
}
